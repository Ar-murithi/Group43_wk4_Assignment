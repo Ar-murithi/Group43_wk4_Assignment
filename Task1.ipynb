{
 "cells": [
  {
   "cell_type": "code",
   "execution_count": 1,
   "id": "17c52438",
   "metadata": {},
   "outputs": [],
   "source": [
    "# Python function that sorts a list of dictionaries by a specified key without using any AI tools\n",
    "\n",
    "## Define the sort_list_manual function using a bubble sort algorithm to sort the list of dictionaries by the specified key\n",
    "\n",
    "def sort_list_manual(list_of_dicts, sort_key):\n",
    "    \"\"\"\n",
    "    Sorts a list of dictionaries by a specific key manually using bubble sort.\n",
    "\n",
    "    Args:\n",
    "        list_of_dicts: The list of dictionaries to sort.\n",
    "        sort_key: The key to sort by.\n",
    "\n",
    "    Returns:\n",
    "        The sorted list of dictionaries.\n",
    "    \"\"\"\n",
    "    n = len(list_of_dicts)\n",
    "    for i in range(n):\n",
    "        for j in range(0, n - i - 1):\n",
    "            if list_of_dicts[j][sort_key] > list_of_dicts[j + 1][sort_key]:\n",
    "                list_of_dicts[j], list_of_dicts[j + 1] = list_of_dicts[j + 1], list_of_dicts[j]\n",
    "    return list_of_dicts"
   ]
  },
  {
   "cell_type": "markdown",
   "id": "d68e3b33",
   "metadata": {},
   "source": []
  },
  {
   "cell_type": "code",
   "execution_count": null,
   "id": "eedd3daa",
   "metadata": {},
   "outputs": [],
   "source": [
    "## AI-generated code\n",
    "\n",
    "## Define a new function sort_list_ai and use the sorted() function with a lambda key, which is a common and efficient way to sort lists of dictionaries in Python and is suggested by an AI code completion tool\n",
    "\n",
    "def sort_list_ai(list_of_dicts, sort_key):\n",
    "  \"\"\"\n",
    "  Sorts a list of dictionaries by a specific key using Python's built-in sorted function.\n",
    "\n",
    "  Args:\n",
    "      list_of_dicts: The list of dictionaries to sort.\n",
    "      sort_key: The key to sort by.\n",
    "\n",
    "  Returns:\n",
    "      The sorted list of dictionaries.\n",
    "  \"\"\"\n",
    "  return sorted(list_of_dicts, key=lambda x: x[sort_key])\n"
   ]
  },
  {
   "cell_type": "code",
   "execution_count": null,
   "id": "a6801b12",
   "metadata": {},
   "outputs": [],
   "source": [
    "## Compare and analyze efficiency\n",
    "\n",
    "import time\n",
    "\n",
    "def sort_list_manual(list_of_dicts, sort_key):\n",
    "    \"\"\"\n",
    "    Sorts a list of dictionaries by a specific key manually using bubble sort.\n",
    "\n",
    "    Args:\n",
    "        list_of_dicts: The list of dictionaries to sort.\n",
    "        sort_key: The key to sort by.\n",
    "\n",
    "    Returns:\n",
    "        The sorted list of dictionaries.\n",
    "    \"\"\"\n",
    "    n = len(list_of_dicts)\n",
    "    for i in range(n):\n",
    "        for j in range(0, n - i - 1):\n",
    "            if list_of_dicts[j][sort_key] > list_of_dicts[j + 1][sort_key]:\n",
    "                list_of_dicts[j], list_of_dicts[j + 1] = list_of_dicts[j + 1], list_of_dicts[j]\n",
    "    return list_of_dicts\n",
    "\n",
    "def sort_list_ai(list_of_dicts, sort_key):\n",
    "  \"\"\"\n",
    "  Sorts a list of dictionaries by a specific key using Python's built-in sorted function.\n",
    "\n",
    "  Args:\n",
    "      list_of_dicts: The list of dictionaries to sort.\n",
    "      sort_key: The key to sort by.\n",
    "\n",
    "  Returns:\n",
    "      The sorted list of dictionaries.\n",
    "  \"\"\"\n",
    "  return sorted(list_of_dicts, key=lambda x: x[sort_key])"
   ]
  },
  {
   "cell_type": "markdown",
   "id": "892f34d3",
   "metadata": {},
   "source": [
    "Analysis:\n",
    "The AI-suggested version utilizes Python's built-in sorted() function with a lambda key function, which is highly optimized in C and designed for such tasks. It is concise, readable, and efficient, typically operating in O(n log n) time complexity.\n",
    "\n",
    "The manual implementation employs a basic bubble sort algorithm, comparing and swapping elements iteratively. This approach has a time complexity of O(n²), making it significantly less efficient for larger datasets. It also mutates the original list, which may or may not be desirable.\n",
    "\n",
    "Conclusion:\n",
    "The AI-generated code is more efficient due to its use of Python's optimized built-in sorting, and it is more concise and easier to maintain. The manual method, while educational, is less suitable for practical purposes involving larger datasets."
   ]
  },
  {
   "cell_type": "code",
   "execution_count": 4,
   "id": "de3ab6d1",
   "metadata": {},
   "outputs": [
    {
     "name": "stdout",
     "output_type": "stream",
     "text": [
      "Sorted by age (AI): [{'name': 'Bob', 'age': 25}, {'name': 'Diana', 'age': 28}, {'name': 'Alice', 'age': 30}, {'name': 'Charlie', 'age': 35}]\n",
      "Sorted by age (Manual): [{'name': 'Bob', 'age': 25}, {'name': 'Diana', 'age': 28}, {'name': 'Alice', 'age': 30}, {'name': 'Charlie', 'age': 35}]\n"
     ]
    }
   ],
   "source": [
    "def sort_dicts_by_key(dict_list, key):\n",
    "    return sorted(dict_list, key=lambda x: x[key])\n",
    "\n",
    "# Sample list of dictionaries\n",
    "sample_list = [\n",
    "    {'name': 'Alice', 'age': 30},\n",
    "    {'name': 'Bob', 'age': 25},\n",
    "    {'name': 'Charlie', 'age': 35},\n",
    "    {'name': 'Diana', 'age': 28}\n",
    "]\n",
    "\n",
    "# Using AI-suggested function to sort by 'age'\n",
    "sorted_list_ai = sort_dicts_by_key(sample_list, 'age')\n",
    "print(\"Sorted by age (AI):\", sorted_list_ai)\n",
    "\n",
    "# Using manual sort function\n",
    "def manual_sort_dicts_by_key(dict_list, key):\n",
    "    for i in range(len(dict_list)):\n",
    "        for j in range(i + 1, len(dict_list)):\n",
    "            if dict_list[i][key] > dict_list[j][key]:\n",
    "                dict_list[i], dict_list[j] = dict_list[j], dict_list[i]\n",
    "    return dict_list\n",
    "\n",
    "sorted_list_manual = manual_sort_dicts_by_key(sample_list.copy(), 'age')\n",
    "print(\"Sorted by age (Manual):\", sorted_list_manual)"
   ]
  }
 ],
 "metadata": {
  "kernelspec": {
   "display_name": "Python 3",
   "language": "python",
   "name": "python3"
  },
  "language_info": {
   "codemirror_mode": {
    "name": "ipython",
    "version": 3
   },
   "file_extension": ".py",
   "mimetype": "text/x-python",
   "name": "python",
   "nbconvert_exporter": "python",
   "pygments_lexer": "ipython3",
   "version": "3.13.3"
  }
 },
 "nbformat": 4,
 "nbformat_minor": 5
}
