{
 "cells": [
  {
   "cell_type": "code",
   "execution_count": null,
   "id": "17c52438",
   "metadata": {},
   "outputs": [],
   "source": [
    "# Python function that sorts a list of dictionaries by a specified key without using any AI tools\n",
    "\n",
    "## Define the sort_list_manual function using a bubble sort algorithm to sort the list of dictionaries by the specified key\n",
    "\n",
    "def sort_list_manual(list_of_dicts, sort_key):\n",
    "    \"\"\"\n",
    "    Sorts a list of dictionaries by a specific key manually using bubble sort.\n",
    "\n",
    "    Args:\n",
    "        list_of_dicts: The list of dictionaries to sort.\n",
    "        sort_key: The key to sort by.\n",
    "\n",
    "    Returns:\n",
    "        The sorted list of dictionaries.\n",
    "    \"\"\"\n",
    "    n = len(list_of_dicts)\n",
    "    for i in range(n):\n",
    "        for j in range(0, n - i - 1):\n",
    "            if list_of_dicts[j][sort_key] > list_of_dicts[j + 1][sort_key]:\n",
    "                list_of_dicts[j], list_of_dicts[j + 1] = list_of_dicts[j + 1], list_of_dicts[j]\n",
    "    return list_of_dicts"
   ]
  },
  {
   "cell_type": "markdown",
   "id": "d68e3b33",
   "metadata": {},
   "source": []
  },
  {
   "cell_type": "code",
   "execution_count": null,
   "id": "eedd3daa",
   "metadata": {},
   "outputs": [],
   "source": [
    "## AI-generated code\n",
    "\n",
    "## Define a new function sort_list_ai and use the sorted() function with a lambda key, which is a common and efficient way to sort lists of dictionaries in Python and is suggested by an AI code completion tool\n",
    "\n",
    "def sort_list_ai(list_of_dicts, sort_key):\n",
    "  \"\"\"\n",
    "  Sorts a list of dictionaries by a specific key using Python's built-in sorted function.\n",
    "\n",
    "  Args:\n",
    "      list_of_dicts: The list of dictionaries to sort.\n",
    "      sort_key: The key to sort by.\n",
    "\n",
    "  Returns:\n",
    "      The sorted list of dictionaries.\n",
    "  \"\"\"\n",
    "  return sorted(list_of_dicts, key=lambda x: x[sort_key])\n"
   ]
  },
  {
   "cell_type": "code",
   "execution_count": 3,
   "id": "a6801b12",
   "metadata": {},
   "outputs": [],
   "source": [
    "## Compare and analyze efficiency\n",
    "\n",
    "import time\n",
    "\n",
    "def sort_list_manual(list_of_dicts, sort_key):\n",
    "    \"\"\"\n",
    "    Sorts a list of dictionaries by a specific key manually using bubble sort.\n",
    "\n",
    "    Args:\n",
    "        list_of_dicts: The list of dictionaries to sort.\n",
    "        sort_key: The key to sort by.\n",
    "\n",
    "    Returns:\n",
    "        The sorted list of dictionaries.\n",
    "    \"\"\"\n",
    "    n = len(list_of_dicts)\n",
    "    for i in range(n):\n",
    "        for j in range(0, n - i - 1):\n",
    "            if list_of_dicts[j][sort_key] > list_of_dicts[j + 1][sort_key]:\n",
    "                list_of_dicts[j], list_of_dicts[j + 1] = list_of_dicts[j + 1], list_of_dicts[j]\n",
    "    return list_of_dicts\n",
    "\n",
    "def sort_list_ai(list_of_dicts, sort_key):\n",
    "  \"\"\"\n",
    "  Sorts a list of dictionaries by a specific key using Python's built-in sorted function.\n",
    "\n",
    "  Args:\n",
    "      list_of_dicts: The list of dictionaries to sort.\n",
    "      sort_key: The key to sort by.\n",
    "\n",
    "  Returns:\n",
    "      The sorted list of dictionaries.\n",
    "  \"\"\"\n",
    "  return sorted(list_of_dicts, key=lambda x: x[sort_key])"
   ]
  }
 ],
 "metadata": {
  "kernelspec": {
   "display_name": "Python 3",
   "language": "python",
   "name": "python3"
  },
  "language_info": {
   "codemirror_mode": {
    "name": "ipython",
    "version": 3
   },
   "file_extension": ".py",
   "mimetype": "text/x-python",
   "name": "python",
   "nbconvert_exporter": "python",
   "pygments_lexer": "ipython3",
   "version": "3.13.3"
  }
 },
 "nbformat": 4,
 "nbformat_minor": 5
}
